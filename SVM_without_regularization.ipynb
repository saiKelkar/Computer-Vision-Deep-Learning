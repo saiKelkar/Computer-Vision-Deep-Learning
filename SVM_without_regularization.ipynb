{
  "nbformat": 4,
  "nbformat_minor": 0,
  "metadata": {
    "colab": {
      "provenance": [],
      "authorship_tag": "ABX9TyO0XEef2i3aY0RmES9brsm5",
      "include_colab_link": true
    },
    "kernelspec": {
      "name": "python3",
      "display_name": "Python 3"
    },
    "language_info": {
      "name": "python"
    }
  },
  "cells": [
    {
      "cell_type": "markdown",
      "metadata": {
        "id": "view-in-github",
        "colab_type": "text"
      },
      "source": [
        "<a href=\"https://colab.research.google.com/github/saiKelkar/Computer-Vision-Deep-Learning/blob/main/SVM_without_regularization.ipynb\" target=\"_parent\"><img src=\"https://colab.research.google.com/assets/colab-badge.svg\" alt=\"Open In Colab\"/></a>"
      ]
    },
    {
      "cell_type": "code",
      "execution_count": 1,
      "metadata": {
        "id": "9JcWPX7iUtMs"
      },
      "outputs": [],
      "source": [
        "# Multiclass SVM without regularization\n",
        "def L_i(x, y, W):\n",
        "    \"\"\"\n",
        "    unvectorized version. Compute the multiclass SVM Loss for a single example (x, y)\n",
        "    - x is a column vector representing an image (e.g. 3073 x 1 in CIFAR-10)\n",
        "        with an appended bias dimension in the 3073-rd position (i.e. bias trick)\n",
        "    - y is an integer giving index of correct class (e.g. between 0 and 9 in CIFAR-10)\n",
        "    - W is a weight matrix (e.g. 10 x 3073 in CIFAR-10)\n",
        "    \"\"\"\n",
        "    delta = 1.0\n",
        "    # scores becomes of size 10 x 1, the scores for each class\n",
        "    scores = W.dot(x)\n",
        "    correct_class_score = scores[y]\n",
        "    D = W.shape[0]\n",
        "    loss_i = 0.0\n",
        "\n",
        "    # iterate over all wrong classes\n",
        "    for j in range(D):\n",
        "        if j == y:\n",
        "            # skip for the true class to only loop over incorrect classes\n",
        "            continue\n",
        "        # accumulate loss for the i-th example\n",
        "        loss_i += max(0, scores[j] - correct_class_score + delta)\n",
        "    return loss_i"
      ]
    },
    {
      "cell_type": "code",
      "source": [
        "import numpy as np\n",
        "\n",
        "def L_i_vectorized(x, y, W):\n",
        "    \"\"\"\n",
        "    A faster half-vectorized implementation. half-vectorized\n",
        "    refers to the fact that for a single example the implementation contains\n",
        "    no for loops, but there is still one loop over the examples (outside this function)\n",
        "    \"\"\"\n",
        "    delta = 1.0\n",
        "    scores = W.dot(x)\n",
        "    # compute the margins for all classes in one vector operation\n",
        "    margins = np.maximum(0, scores - scores[y] + delta)\n",
        "    # do not count the correct class\n",
        "    margins[y] = 0\n",
        "    loss_i = np.sum(margins)\n",
        "    return loss_i"
      ],
      "metadata": {
        "id": "b7dODHQeW31P"
      },
      "execution_count": 3,
      "outputs": []
    },
    {
      "cell_type": "code",
      "source": [
        "def svm_loss_vectorized(X, y, W):\n",
        "    \"\"\"\n",
        "    Fully vectorized loss computation for all training examples.\n",
        "\n",
        "    Inputs:\n",
        "    X: input data of shape (N, D) where each row is a D-dimensional input example\n",
        "    y: Vector of labels of shape (N,), with values in [0, C)\n",
        "    W: Weight matrix of shape (C, D)\n",
        "\n",
        "    Returns:\n",
        "    loss: scalar value of the total loss\n",
        "    \"\"\"\n",
        "\n",
        "    delta = 1.0\n",
        "    scores = X.dot(W.T)\n",
        "    correct_class_scores = scores[np.arange(X.shape[0]), y]\n",
        "\n",
        "    # Compute margins and apply hinge loss\n",
        "    margins = np.maximum(0, scores - correct_class_scores[:, np.newaxis] + delta)\n",
        "    margins[np.arange(X.shape[0]), y] = 0\n",
        "\n",
        "    loss = np.sum(margins) / X.shape[0]\n",
        "    return loss"
      ],
      "metadata": {
        "id": "XQ6yrD0SaW3i"
      },
      "execution_count": 4,
      "outputs": []
    }
  ]
}