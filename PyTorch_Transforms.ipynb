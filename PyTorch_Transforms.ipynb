{
  "nbformat": 4,
  "nbformat_minor": 0,
  "metadata": {
    "colab": {
      "provenance": [],
      "authorship_tag": "ABX9TyMkLWJ7FpP5Xn3IzbBp6xEi",
      "include_colab_link": true
    },
    "kernelspec": {
      "name": "python3",
      "display_name": "Python 3"
    },
    "language_info": {
      "name": "python"
    }
  },
  "cells": [
    {
      "cell_type": "markdown",
      "metadata": {
        "id": "view-in-github",
        "colab_type": "text"
      },
      "source": [
        "<a href=\"https://colab.research.google.com/github/saiKelkar/Computer-Vision-Deep-Learning/blob/main/PyTorch_Transforms.ipynb\" target=\"_parent\"><img src=\"https://colab.research.google.com/assets/colab-badge.svg\" alt=\"Open In Colab\"/></a>"
      ]
    },
    {
      "cell_type": "code",
      "execution_count": 1,
      "metadata": {
        "id": "SlrNlx4hcwHS"
      },
      "outputs": [],
      "source": [
        "# Data doesn't always come in its final processed form that is required for training machine learning algorithms.\n",
        "# We use transforms to perform some manipulations of the data and make it suitable for training.\n",
        "\n",
        "# TorchVision datasets have two parameters:\n",
        "# transform -- to modify the features\n",
        "# target_tranform -- to modify the labels - that accept callables contaning the tranformation logic"
      ]
    },
    {
      "cell_type": "code",
      "source": [
        "import torch\n",
        "from torchvision import datasets\n",
        "from torchvision.transforms import ToTensor, Lambda\n",
        "\n",
        "ds = datasets.FashionMNIST(\n",
        "    root = \"data\",\n",
        "    train = True,\n",
        "    download = True,\n",
        "    transform = ToTensor(),\n",
        "    target_transform = Lambda(lambda y: torch.zeros(10, dtype = torch.float).scatter_(0, torch.tensor(y), value = 1))\n",
        ")"
      ],
      "metadata": {
        "colab": {
          "base_uri": "https://localhost:8080/"
        },
        "id": "mrHFIHmldeiN",
        "outputId": "146777e1-f072-4993-bad4-c42f0d46ac05"
      },
      "execution_count": 2,
      "outputs": [
        {
          "output_type": "stream",
          "name": "stderr",
          "text": [
            "100%|██████████| 26.4M/26.4M [00:01<00:00, 19.7MB/s]\n",
            "100%|██████████| 29.5k/29.5k [00:00<00:00, 307kB/s]\n",
            "100%|██████████| 4.42M/4.42M [00:00<00:00, 5.51MB/s]\n",
            "100%|██████████| 5.15k/5.15k [00:00<00:00, 12.8MB/s]\n"
          ]
        }
      ]
    },
    {
      "cell_type": "code",
      "source": [
        "# ToTensor converts a PIL image or NumPy ndarray into a FloatTensor\n",
        "# and scales the image's pixel intensity values in the range [0., 1.]"
      ],
      "metadata": {
        "id": "s4WVwIo0d-IY"
      },
      "execution_count": 3,
      "outputs": []
    },
    {
      "cell_type": "code",
      "source": [
        "# Lambda Transforms\n",
        "# Lambda transforms apply any custom function.\n",
        "# Here, we define a function to turn the integer into a one-hot encoded tensor.\n",
        "# It first creates a zero tensor of size 10 (the number of labels in our dataset)\n",
        "# and calls scatter_ which assigns a value = 1 on the index as given by label y\n",
        "\n",
        "# lambda y: -- to define a tiny, unnamed function\n",
        "# torch.zeros(10, dtype = torch.float) -- creates a vector of zeros of length 10, filled with zeros\n",
        "# scatter_(dim = 0, index = torch.tensor(y), value = 1)\n",
        "# scatter_ -- PyTorch in-place operation\n",
        "# It means, at the specified index in this tensor, put 1 instead of whatever was there\n",
        "# dim = 0 -- we are scattering along the first dimension\n",
        "# index = torch.tensor(y) -- we convert y (an integer class label) into a PyTorch tensor first\n",
        "# value = 1 -- that's what we put there\n",
        "\n",
        "target_transform = Lambda(lambda y: torch.zeros(10, dtype = torch.float).scatter_(dim = 0, index = torch.tensor(y), value = 1))\n",
        "\n",
        "# Example:\n",
        "# If our class is 2, above line transforms it into a vector with 1 in the 2nd spot and 0 everywhere else.\n",
        "# y:\n",
        "# one-hot vector -> [0, 0, 1, 0, 0, 0, 0, 0, 0, 0]"
      ],
      "metadata": {
        "id": "-bCR0i91eVEx"
      },
      "execution_count": 4,
      "outputs": []
    },
    {
      "cell_type": "code",
      "source": [],
      "metadata": {
        "id": "zEoozOD9fEmB"
      },
      "execution_count": null,
      "outputs": []
    }
  ]
}