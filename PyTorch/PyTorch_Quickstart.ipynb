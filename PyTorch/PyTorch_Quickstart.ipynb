{
  "nbformat": 4,
  "nbformat_minor": 0,
  "metadata": {
    "colab": {
      "provenance": [],
      "authorship_tag": "ABX9TyMcQ4ZKq44Eqa/1yiJBGDfq",
      "include_colab_link": true
    },
    "kernelspec": {
      "name": "python3",
      "display_name": "Python 3"
    },
    "language_info": {
      "name": "python"
    }
  },
  "cells": [
    {
      "cell_type": "markdown",
      "metadata": {
        "id": "view-in-github",
        "colab_type": "text"
      },
      "source": [
        "<a href=\"https://colab.research.google.com/github/saiKelkar/Computer-Vision-Deep-Learning/blob/main/PyTorch_Quickstart.ipynb\" target=\"_parent\"><img src=\"https://colab.research.google.com/assets/colab-badge.svg\" alt=\"Open In Colab\"/></a>"
      ]
    },
    {
      "cell_type": "code",
      "execution_count": 2,
      "metadata": {
        "id": "1sXRBm566iix"
      },
      "outputs": [],
      "source": [
        "# PyTorch has two primitives to work with data:\n",
        "# torch.utils.data.DataLoader and torch.utils.data.Dataset\n",
        "# Dataset -- stores the samples and their corresponding labels\n",
        "# DataLoader -- wraps an iterable around the Dataset (goes through the dataset one piece at a time or in small batches)\n",
        "import torch\n",
        "from torch import nn\n",
        "from torch.utils.data import DataLoader\n",
        "from torchvision import datasets\n",
        "from torchvision.transforms import ToTensor"
      ]
    },
    {
      "cell_type": "code",
      "source": [
        "# Download training data from open datasets\n",
        "training_data = datasets.FashionMNIST(\n",
        "    root = \"data\",\n",
        "    train = True,\n",
        "    download = True,\n",
        "    transform = ToTensor(),\n",
        ")\n",
        "\n",
        "# Download test data from open datasets\n",
        "test_data = datasets.FashionMNIST(\n",
        "    root = \"data\",\n",
        "    train = False,\n",
        "    download = True,\n",
        "    transform = ToTensor(),\n",
        ")"
      ],
      "metadata": {
        "colab": {
          "base_uri": "https://localhost:8080/"
        },
        "id": "6j__iPOE8A_s",
        "outputId": "5dc42acb-3f8b-47df-efd6-32df92ec2852"
      },
      "execution_count": 3,
      "outputs": [
        {
          "output_type": "stream",
          "name": "stderr",
          "text": [
            "100%|██████████| 26.4M/26.4M [00:03<00:00, 7.74MB/s]\n",
            "100%|██████████| 29.5k/29.5k [00:00<00:00, 130kB/s]\n",
            "100%|██████████| 4.42M/4.42M [00:01<00:00, 2.52MB/s]\n",
            "100%|██████████| 5.15k/5.15k [00:00<00:00, 8.64MB/s]\n"
          ]
        }
      ]
    },
    {
      "cell_type": "code",
      "source": [
        "# We pass Dataset as an argument to DataLoader\n",
        "# This wraps an iterable over our dataset, and supports automatic batching, sampling, shuffling, and multiprocess data loading.\n",
        "# We define batch_size = 64 <-- each element in the dataloader iterable will return a batch of 64 features and labels\n",
        "batch_size = 64\n",
        "\n",
        "# Create DataLoader\n",
        "train_dataloader = DataLoader(training_data, batch_size = batch_size)\n",
        "test_dataloader = DataLoader(test_data, batch_size = batch_size)\n",
        "\n",
        "for X, y in test_dataloader:\n",
        "    print(f\"Shape of X [N, C, H, W]: {X.shape}\")\n",
        "    print(f\"Shape of y: {y.shape} {y.dtype}\")\n",
        "    break"
      ],
      "metadata": {
        "colab": {
          "base_uri": "https://localhost:8080/"
        },
        "id": "99SfrMmb8rj9",
        "outputId": "0da4c100-9f90-494b-d0d4-685a63aa53ae"
      },
      "execution_count": 4,
      "outputs": [
        {
          "output_type": "stream",
          "name": "stdout",
          "text": [
            "Shape of X [N, C, H, W]: torch.Size([64, 1, 28, 28])\n",
            "Shape of y: torch.Size([64]) torch.int64\n"
          ]
        }
      ]
    },
    {
      "cell_type": "code",
      "source": [
        "# To define a neural network, we create a class that inherits from nn.Module\n",
        "# Define the layers of the network in the __init__ function,\n",
        "# and specity how data will pass through the network in the forward function\n",
        "# To accelerate operations in the neural network, we move it to the accelerator such as CUDA, MPS, or XPU\n",
        "# Otherwise, we use CPU\n",
        "\n",
        "device = torch.accelerator.current_accelerator().type if torch.accelerator.is_available() else \"cpu\"\n",
        "print(f\"Using {device} device\")\n",
        "\n",
        "# Define model\n",
        "# nn.Module <-- base class for all neural networks in PyTorch -- provides built-in features like parameters tracking, saving / loading models, etc.\n",
        "class NeuralNetwork(nn.Module):\n",
        "    def __init__(self):\n",
        "        # Constructor of the class -- required to properly register the model's layers\n",
        "        super().__init__()\n",
        "        # Flattens a 2D image (28 x 28 pixels) into a 1D vector (784 values)\n",
        "        self.flatten = nn.Flatten()\n",
        "        # Core of neural network inside a nn.Sequential container\n",
        "        self.linear_relu_stack = nn.Sequential(\n",
        "            # Input: 784 features, Output: 512 neurons\n",
        "            nn.Linear(28*28, 512),\n",
        "            # ReLU activation function, introducing non-linearity\n",
        "            nn.ReLU(),\n",
        "            # Input: 512 outputs from previous layer, Output: 512 units\n",
        "            nn.Linear(512, 512),\n",
        "            nn.ReLU(),\n",
        "            # Final layer -- maps 512 neurons to 10 output values (representing 10 classes in the MNIST data)\n",
        "            nn.Linear(512, 10)\n",
        "        )\n",
        "\n",
        "    # forward pass -- whatever happens when you give the model some input x\n",
        "    def forward(self, x):\n",
        "        # Image gets flattened\n",
        "        x = self.flatten(x)\n",
        "        # Passed through the linear_relu_stack and returns logits (raw predictions before softmax)\n",
        "        logits = self.linear_relu_stack(x)\n",
        "        return logits\n",
        "\n",
        "model = NeuralNetwork().to(device)\n",
        "print(model)"
      ],
      "metadata": {
        "colab": {
          "base_uri": "https://localhost:8080/"
        },
        "id": "0g4rO2c59y3u",
        "outputId": "74cce928-efc6-4234-d08e-fb82abfc8404"
      },
      "execution_count": 5,
      "outputs": [
        {
          "output_type": "stream",
          "name": "stdout",
          "text": [
            "Using cpu device\n",
            "NeuralNetwork(\n",
            "  (flatten): Flatten(start_dim=1, end_dim=-1)\n",
            "  (linear_relu_stack): Sequential(\n",
            "    (0): Linear(in_features=784, out_features=512, bias=True)\n",
            "    (1): ReLU()\n",
            "    (2): Linear(in_features=512, out_features=512, bias=True)\n",
            "    (3): ReLU()\n",
            "    (4): Linear(in_features=512, out_features=10, bias=True)\n",
            "  )\n",
            ")\n"
          ]
        }
      ]
    },
    {
      "cell_type": "code",
      "source": [
        "# Defining loss_fn as nn.CrossEntropyLoss\n",
        "loss_fn = nn.CrossEntropyLoss()\n",
        "# Defining optimizer as SGD to update model weights using gradients -- Stochastic Gradient Descent\n",
        "optimizer = torch.optim.SGD(model.parameters(), lr = 1e-3)"
      ],
      "metadata": {
        "id": "vNXj8ftAwR8c"
      },
      "execution_count": 7,
      "outputs": []
    },
    {
      "cell_type": "code",
      "source": [
        "def train(dataloader, model, loss_fn, optimizer):\n",
        "    # size -- total number of samples in the train dataset\n",
        "    size = len(dataloader.dataset)\n",
        "    # setting the model to train()\n",
        "    model.train()\n",
        "    # Loop through batches of data\n",
        "    # move input (X) and labels (y) to the selected device (CPU / GPU)\n",
        "    for batch, (X, y) in enumerate(dataloader):\n",
        "        X, y = X.to(device), y.to(device)\n",
        "\n",
        "        # Compute prediction error\n",
        "        # pred is what model(X) outputs\n",
        "        pred = model(X)\n",
        "        # loss -- computes how far the predicted labels are from the true labels\n",
        "        loss = loss_fn(pred, y)\n",
        "\n",
        "        # Backpropagation\n",
        "        # Compute gradients of the loss with respect to model parameters (backward pass)\n",
        "        loss.backward()\n",
        "        # Update model parameters using the gradients just calculated\n",
        "        optimizer.step()\n",
        "        # Clear the old gradients from the previous step before computing new ones\n",
        "        optimizer.zero_grad()\n",
        "\n",
        "        # Print loss every 100 batches\n",
        "        if batch % 100 == 0:\n",
        "            # Convert loss to a Python float, Number of samples processed so far\n",
        "            loss, current = loss.item(), (batch + 1) * len(X)\n",
        "            # loss: {loss:>7f} <-- use 7 total spaces, and align it to the right (e.g., loss: 0.021346)\n",
        "            # :>5 <-- make the whole space at least 5 characters width\n",
        "            # [ _ _ _ _ _ / _ _ _ _ _ ]\n",
        "            print(f\"loss: {loss:>7f} [{current:>5d} / {size:>5d}]\")"
      ],
      "metadata": {
        "id": "DnKspWZMzcZz"
      },
      "execution_count": 8,
      "outputs": []
    },
    {
      "cell_type": "code",
      "source": [
        "# We also check the model's performance against the test dataset to ensure it is learning\n",
        "def test(dataloader, model, loss_fn):\n",
        "    # size -- total number of samples in the test dataset\n",
        "    size = len(dataloader.dataset)\n",
        "    # Number of batches in the test dataloader\n",
        "    num_batches = len(dataloader)\n",
        "    # set model to evaluate (disables dropouts, etc.)\n",
        "    model.eval()\n",
        "    # setting test_loss, and correct scores to 0\n",
        "    test_loss, correct = 0, 0\n",
        "    # Disable gradient calculation (for faster inference and memory efficiency)\n",
        "    with torch.no_grad():\n",
        "        for X, y in dataloader:\n",
        "            X, y = X.to(device), y.to(device)\n",
        "            pred = model(X)\n",
        "            # Add the loss for this batch (sum over all batches to average later)\n",
        "            test_loss += loss_fn(pred, y).item()\n",
        "            # Count how many predictions matched the trie labels\n",
        "            correct += (pred.argmax(1) == y).type(torch.float).sum().item()\n",
        "    # Average the loss and converting count of correct predictions to accuracy\n",
        "    test_loss /= num_batches\n",
        "    correct /= size\n",
        "    # (100 * correct):>0.1f <-- multiplies correct (which is a float between 0 and 1) by 100 to get a percentage accuracy\n",
        "    # {test_loss:>8f} <-- right-align it in a field that's 8 characters wide (including digits and decimal point)\n",
        "    print(f\"Test Error: \\n Accuracy: {(100 * correct):>0.1f} %, Avg loss: {test_loss:>8f}\\n\")"
      ],
      "metadata": {
        "id": "WVrWQJFv3zAa"
      },
      "execution_count": 9,
      "outputs": []
    },
    {
      "cell_type": "code",
      "source": [
        "# The training process is conducted over several iterations (epochs)\n",
        "# During each epoch, the model learns parameters to make better predictions\n",
        "# We print the model's accuracy and loss at each epoch <-- we'd like to see the accuracy increase and the loss decrease with every epoch\n",
        "\n",
        "epochs = 5\n",
        "for t in range(epochs):\n",
        "    print(f\"Epoch {t + 1}\\n - - - - - - - - - - - - - - - - -\")\n",
        "    train(train_dataloader, model, loss_fn, optimizer)\n",
        "    test(test_dataloader, model, loss_fn)\n",
        "print(\"Done!\")"
      ],
      "metadata": {
        "colab": {
          "base_uri": "https://localhost:8080/"
        },
        "id": "STJpfOkA6_ST",
        "outputId": "7a6fa96b-3217-4b96-d292-045cfd8a1fc2"
      },
      "execution_count": 10,
      "outputs": [
        {
          "output_type": "stream",
          "name": "stdout",
          "text": [
            "Epoch 1\n",
            " - - - - - - - - - - - - - - - - -\n",
            "loss: 2.307972 [   64 / 60000]\n",
            "loss: 2.291377 [ 6464 / 60000]\n",
            "loss: 2.269899 [12864 / 60000]\n",
            "loss: 2.264215 [19264 / 60000]\n",
            "loss: 2.243737 [25664 / 60000]\n",
            "loss: 2.217320 [32064 / 60000]\n",
            "loss: 2.230158 [38464 / 60000]\n",
            "loss: 2.188588 [44864 / 60000]\n",
            "loss: 2.192180 [51264 / 60000]\n",
            "loss: 2.163491 [57664 / 60000]\n",
            "Test Error: \n",
            " Accuracy: 38.3 %, Avg loss: 2.152056\n",
            "\n",
            "Epoch 2\n",
            " - - - - - - - - - - - - - - - - -\n",
            "loss: 2.164243 [   64 / 60000]\n",
            "loss: 2.152910 [ 6464 / 60000]\n",
            "loss: 2.092397 [12864 / 60000]\n",
            "loss: 2.114351 [19264 / 60000]\n",
            "loss: 2.054612 [25664 / 60000]\n",
            "loss: 1.995932 [32064 / 60000]\n",
            "loss: 2.034033 [38464 / 60000]\n",
            "loss: 1.943626 [44864 / 60000]\n",
            "loss: 1.963108 [51264 / 60000]\n",
            "loss: 1.890248 [57664 / 60000]\n",
            "Test Error: \n",
            " Accuracy: 53.9 %, Avg loss: 1.880818\n",
            "\n",
            "Epoch 3\n",
            " - - - - - - - - - - - - - - - - -\n",
            "loss: 1.913208 [   64 / 60000]\n",
            "loss: 1.880929 [ 6464 / 60000]\n",
            "loss: 1.764738 [12864 / 60000]\n",
            "loss: 1.814261 [19264 / 60000]\n",
            "loss: 1.690672 [25664 / 60000]\n",
            "loss: 1.650881 [32064 / 60000]\n",
            "loss: 1.682138 [38464 / 60000]\n",
            "loss: 1.575067 [44864 / 60000]\n",
            "loss: 1.613968 [51264 / 60000]\n",
            "loss: 1.505046 [57664 / 60000]\n",
            "Test Error: \n",
            " Accuracy: 61.0 %, Avg loss: 1.517404\n",
            "\n",
            "Epoch 4\n",
            " - - - - - - - - - - - - - - - - -\n",
            "loss: 1.582152 [   64 / 60000]\n",
            "loss: 1.544942 [ 6464 / 60000]\n",
            "loss: 1.402573 [12864 / 60000]\n",
            "loss: 1.476231 [19264 / 60000]\n",
            "loss: 1.351415 [25664 / 60000]\n",
            "loss: 1.354435 [32064 / 60000]\n",
            "loss: 1.370140 [38464 / 60000]\n",
            "loss: 1.289919 [44864 / 60000]\n",
            "loss: 1.333589 [51264 / 60000]\n",
            "loss: 1.228708 [57664 / 60000]\n",
            "Test Error: \n",
            " Accuracy: 63.4 %, Avg loss: 1.252005\n",
            "\n",
            "Epoch 5\n",
            " - - - - - - - - - - - - - - - - -\n",
            "loss: 1.324709 [   64 / 60000]\n",
            "loss: 1.306773 [ 6464 / 60000]\n",
            "loss: 1.149566 [12864 / 60000]\n",
            "loss: 1.254368 [19264 / 60000]\n",
            "loss: 1.128920 [25664 / 60000]\n",
            "loss: 1.157871 [32064 / 60000]\n",
            "loss: 1.177296 [38464 / 60000]\n",
            "loss: 1.109723 [44864 / 60000]\n",
            "loss: 1.157469 [51264 / 60000]\n",
            "loss: 1.066758 [57664 / 60000]\n",
            "Test Error: \n",
            " Accuracy: 64.8 %, Avg loss: 1.086474\n",
            "\n",
            "Done!\n"
          ]
        }
      ]
    },
    {
      "cell_type": "code",
      "source": [
        "# Saving model\n",
        "torch.save(model.state_dict(), \"model.pth\")\n",
        "print(\"Saved PyTorch Model State to model.pth\")"
      ],
      "metadata": {
        "colab": {
          "base_uri": "https://localhost:8080/"
        },
        "id": "cjSOU0id75EP",
        "outputId": "270cb7c5-958b-4e48-d5ab-9c66936094ec"
      },
      "execution_count": 11,
      "outputs": [
        {
          "output_type": "stream",
          "name": "stdout",
          "text": [
            "Saved PyTorch Model State to model.pth\n"
          ]
        }
      ]
    },
    {
      "cell_type": "code",
      "source": [
        "# Loading models -- includes re-creating the model structure and loading the state dictionary into it\n",
        "model = NeuralNetwork().to(device)\n",
        "model.load_state_dict(torch.load(\"model.pth\", weights_only = True))"
      ],
      "metadata": {
        "colab": {
          "base_uri": "https://localhost:8080/"
        },
        "id": "GlvuHa2k-q9b",
        "outputId": "6a369b1b-aeef-4e10-e780-1aec16e5a3f0"
      },
      "execution_count": 12,
      "outputs": [
        {
          "output_type": "execute_result",
          "data": {
            "text/plain": [
              "<All keys matched successfully>"
            ]
          },
          "metadata": {},
          "execution_count": 12
        }
      ]
    },
    {
      "cell_type": "code",
      "source": [
        "# The model is now ready to make predictions\n",
        "classes = [\n",
        "    \"T-shirt/top\",\n",
        "    \"Trouser\",\n",
        "    \"Pullover\",\n",
        "    \"Dress\",\n",
        "    \"Coat\",\n",
        "    \"Sandal\",\n",
        "    \"Shirt\",\n",
        "    \"Sneaker\",\n",
        "    \"Bag\",\n",
        "    \"Ankle boot\",\n",
        "]\n",
        "\n",
        "model.eval()\n",
        "# Get the first test image (x) and its label (y) from test_data\n",
        "x, y = test_data[5][0], test_data[5][1]\n",
        "# Turn off gradient calculation\n",
        "with torch.no_grad():\n",
        "    x = x.to(device)\n",
        "    pred = model(x)\n",
        "    # Taking the index of the highest score from the output (i.e., the predicted class)\n",
        "    # Getting the actual class name from the label\n",
        "    predicted, actual = classes[pred[0].argmax(0)], classes[y]\n",
        "    # Print the predicted and actual class names\n",
        "    print(f\"Predicted: '{predicted}', Actual: '{actual}'\")"
      ],
      "metadata": {
        "colab": {
          "base_uri": "https://localhost:8080/"
        },
        "id": "wtlkRduV_B7-",
        "outputId": "a2ab0ebb-87fd-4ca5-be09-a3d28b6a1e34"
      },
      "execution_count": 18,
      "outputs": [
        {
          "output_type": "stream",
          "name": "stdout",
          "text": [
            "Predicted: 'Trouser', Actual: 'Trouser'\n"
          ]
        }
      ]
    },
    {
      "cell_type": "code",
      "source": [],
      "metadata": {
        "id": "Dm9DUCJo_8Rc"
      },
      "execution_count": null,
      "outputs": []
    }
  ]
}